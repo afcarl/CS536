{
 "cells": [
  {
   "cell_type": "code",
   "execution_count": 14,
   "metadata": {},
   "outputs": [
    {
     "name": "stderr",
     "output_type": "stream",
     "text": [
      "/homes/sharm267/anaconda3/envs/pytorch/lib/python3.5/site-packages/sklearn/cross_validation.py:41: DeprecationWarning: This module was deprecated in version 0.18 in favor of the model_selection module into which all the refactored classes and functions are moved. Also note that the interface of the new CV iterators are different from that of this module. This module will be removed in 0.20.\n",
      "  \"This module will be removed in 0.20.\", DeprecationWarning)\n"
     ]
    }
   ],
   "source": [
    "import os\n",
    "import numpy as np\n",
    "import sklearn \n",
    "from sklearn import linear_model\n",
    "from sklearn.metrics import roc_auc_score, roc_curve, f1_score,accuracy_score\n",
    "from sklearn.ensemble import BaggingClassifier, ExtraTreesClassifier,GradientBoostingClassifier\n",
    "from sklearn.metrics import roc_auc_score\n",
    "from sklearn.ensemble import RandomForestClassifier\n",
    "from sklearn.tree import DecisionTreeClassifier\n",
    "import matplotlib.pyplot as plt\n",
    "from sklearn.neighbors import NearestNeighbors\n",
    "import xgboost as xgb"
   ]
  },
  {
   "cell_type": "code",
   "execution_count": 15,
   "metadata": {},
   "outputs": [],
   "source": [
    "datafile = 'BD-Fifo.dat'"
   ]
  },
  {
   "cell_type": "code",
   "execution_count": 16,
   "metadata": {},
   "outputs": [],
   "source": [
    "data = np.loadtxt(datafile,dtype=str)"
   ]
  },
  {
   "cell_type": "code",
   "execution_count": 17,
   "metadata": {},
   "outputs": [
    {
     "name": "stdout",
     "output_type": "stream",
     "text": [
      "['A' 'C']\n"
     ]
    }
   ],
   "source": [
    "##### data sanity check\n",
    "\n",
    "# Check number of class labels\n",
    "print(np.unique(data[:,[99]]))\n",
    "\n",
    "# Modify the data array\n",
    "# Change class labels. A : 0, B: 1\n",
    "# Change the data type for float otherwise\n",
    "data_n = np.zeros(data.shape,dtype=np.float)\n",
    "for idx,d in enumerate(data):\n",
    "    d[-1] = 0 if d[-1] == 'A' else 1\n",
    "    data_n[idx] = [float(val) for val in d]"
   ]
  },
  {
   "cell_type": "code",
   "execution_count": 18,
   "metadata": {},
   "outputs": [],
   "source": [
    "logit = linear_model.LogisticRegression()"
   ]
  },
  {
   "cell_type": "code",
   "execution_count": 19,
   "metadata": {},
   "outputs": [
    {
     "name": "stdout",
     "output_type": "stream",
     "text": [
      "N: 35441\n",
      "<class 'numpy.ndarray'>\n",
      "<class 'list'>\n",
      "<class 'numpy.ndarray'>\n"
     ]
    }
   ],
   "source": [
    "N = len(data_n)\n",
    "print(\"N: {}\".format(N))\n",
    "test_n = 5000\n",
    "val_n = 5000\n",
    "# Train Set\n",
    "test_idx = np.random.choice(range(N),test_n,replace=False)\n",
    "train_idx = [x for x in range(N) if x not in test_idx]\n",
    "val_idx = np.random.choice(train_idx,val_n,replace=False)\n",
    "train_idx = [x for x in train_idx if x not in val_idx]\n",
    "print(type(test_idx))\n",
    "print(type(train_idx))\n",
    "print(type(val_idx))"
   ]
  },
  {
   "cell_type": "code",
   "execution_count": 20,
   "metadata": {},
   "outputs": [],
   "source": [
    "def start_pca_validation():\n",
    "    prefix_training = \"../../../../k_fold_training_set_\"\n",
    "    prefix_test = \"../../../../k_fold_test_set_\"\n",
    "    suffix = \".csv\"\n",
    "    file_names = ['1','2','3','4','5']\n",
    "\n",
    "    C_arr = [4000,4100,4200,4300,4400,4500,4600,4700,4800,4900,5000,6000,7000,8000,9000,10000]\n",
    "\n",
    "    for c in C_arr:\n",
    "        f_measure_sum = 0\n",
    "        count = 0\n",
    "        for file_name in file_names:\n",
    "            classifier = get_classifier(c)\n",
    "            training_file = prefix_training + file_name + suffix\n",
    "            test_file = prefix_test + file_name + suffix\n",
    "\n",
    "            indices_train,data_train,labels_train = pca.read_data(training_file)\n",
    "\n",
    "            X_pc_train = pca.get_principal_components(data_train,10)\n",
    "\n",
    "            classifier.fit(X_pc_train,labels_train) \n",
    "\n",
    "            indices_test,data_test,labels_test = pca.read_data(test_file)\n",
    "\n",
    "            X_pc_test = pca.get_principal_components(data_test,10)\n",
    "\n",
    "            y_pred = classifier.predict(X_pc_test)\n",
    "\n",
    "            [accuracy,error,recall,precision,specificity,f_measure] = get_statistics(labels_test,y_pred)\n",
    "            \n",
    "            if f_measure != -1:\n",
    "                f_measure_sum = f_measure_sum + f_measure\n",
    "                count = count + 1\n",
    "\n",
    "\n",
    "        f_measure_sum = f_measure_sum/count\n",
    "\n",
    "def start_testing_pca():\n",
    "\n",
    "    indices_train,data_train,labels_train = pca.read_data(TRAINING_SET)\n",
    "\n",
    "    data_train_pc = pca.get_principal_components(data_train,10)\n",
    "    classifier = get_classifier(C)\n",
    "    classifier.fit(data_train_pc,labels_train)\n",
    "\n",
    "    # read the test data\n",
    "\n",
    "    indices_test,data_test,labels_test = pca.read_data(TESTING_SET)\n",
    "    data_test_pc = pca.get_principal_components(data_test,10)\n",
    "\n",
    "    # Code For ROC curve\n",
    "    prob_estimates = classifier.predict_proba(data_test_pc)\n",
    "\n",
    "    fpr, tpr, thresholds = metrics.roc_curve(y_true=labels_test,y_score=prob_estimates[:,1],pos_label=1)\n",
    "\n",
    "    precision,recall,_ = precision_recall_curve(y_true=labels_test,probas_pred=prob_estimates[:,1],pos_label=1)\n",
    "\n",
    "    print_roc_data(fpr,tpr)\n",
    "    print_pr_data(precision,recall,PR_file_logistic_pca_10)    \n",
    "    y_pred = classifier.predict(data_test_pc)\n",
    "\n",
    "    [accuracy,error,recall,precision,specificity,f_measure] = get_statistics(labels_test,y_pred)"
   ]
  },
  {
   "cell_type": "code",
   "execution_count": 21,
   "metadata": {},
   "outputs": [],
   "source": [
    "train_X = data_n[train_idx,:][:,range(99)]\n",
    "train_Y = data_n[train_idx,:][:,[99]].flatten().astype(np.int)\n",
    "\n",
    "val_X = data_n[val_idx,:][:,range(99)]\n",
    "val_Y = data_n[val_idx,:][:,[99]].flatten().astype(np.int)\n",
    "\n",
    "test_X = data_n[test_idx,:][:,range(99)]\n",
    "test_Y = data_n[test_idx,:][:,[99]].flatten().astype(np.int)"
   ]
  },
  {
   "cell_type": "code",
   "execution_count": 22,
   "metadata": {},
   "outputs": [],
   "source": [
    "def plot_roc(algo,true,score):\n",
    "    roc_score = roc_auc_score(true,score)\n",
    "    fpr, tpr, _ = roc_curve(true,score)\n",
    "    plt.plot(fpr,tpr,label='ROC curve (auc = {:0.2f})'.format(roc_score*100),color='r')\n",
    "    plt.xlim([0.0, 1.0])\n",
    "    plt.ylim([0.0, 1.05])\n",
    "    plt.xlabel('False Positive Rate')\n",
    "    plt.ylabel('True Positive Rate')\n",
    "    plt.title(\"{}\".format(algo))\n",
    "    plt.legend(loc=\"lower right\")\n",
    "    plt.savefig(\"\".join(algo.split()))\n",
    "    plt.show()"
   ]
  },
  {
   "cell_type": "code",
   "execution_count": 23,
   "metadata": {},
   "outputs": [],
   "source": [
    "def start_testing():\n",
    "    [X,Y,X_0] = read_data(TRAINING_SET)\n",
    "\n",
    "    classifier = get_classifier(C)\n",
    "    classifier.fit(X,Y)\n",
    "\n",
    "    # read the test data\n",
    "\n",
    "    [X_test,Y_test,X_0_test] = read_data(TESTING_SET)\n",
    "\n",
    "\n",
    "    prob_estimates = classifier.predict_proba(X_test)\n",
    "\n",
    "    # ROC data\n",
    "    fpr, tpr, thresholds = metrics.roc_curve(y_true=Y_test,y_score=prob_estimates[:,1],pos_label=1)\n",
    "\n",
    "    # PR data\n",
    "    precision,recall,_ = precision_recall_curve(y_true=Y_test,probas_pred=prob_estimates[:,1],pos_label=1)\n",
    "\n",
    "    print_roc_data(fpr,tpr)    \n",
    "    print_pr_data(precision,recall,PR_file_logistic)    \n",
    "\n",
    "    y_pred = classifier.predict(X_test)\n",
    "\n",
    "    [accuracy,error,recall,precision,specificity,f_measure] = get_statistics(Y_test,y_pred)"
   ]
  },
  {
   "cell_type": "code",
   "execution_count": 24,
   "metadata": {},
   "outputs": [],
   "source": [
    "def start_validation():\n",
    "\n",
    "    C_arr = [0.001,0.01,0.1,1,10,100,1000,10000]\n",
    "    prefix_training = \"../../../../k_fold_training_set_\"\n",
    "    prefix_test = \"../../../../k_fold_test_set_\"\n",
    "    suffix = \".csv\"\n",
    "    file_names = ['1','2','3','4','5']\n",
    "    for C in C_arr:\n",
    "        classifier = get_classifier(C)\n",
    "        f_measure_sum = 0.0\n",
    "        count = 0\n",
    "        for file_name in file_names:\n",
    "            training_file = prefix_training + file_name + suffix\n",
    "            test_file = prefix_test + file_name + suffix\n",
    "\n",
    "            [X,Y,X_0] = read_data(training_file)\n",
    "\n",
    "            classifier.fit(X,Y) \n",
    "\n",
    "            [accuracy,error,recall,precision,specificity,f_measure] = get_validation_statistics(classifier,test_file)\n",
    "            \n",
    "            if f_measure != -1:\n",
    "                f_measure_sum = f_measure_sum + f_measure\n",
    "                count = count + 1\n",
    "\n",
    "\n",
    "        f_measure_sum = f_measure_sum/count"
   ]
  },
  {
   "cell_type": "code",
   "execution_count": 25,
   "metadata": {},
   "outputs": [],
   "source": [
    "def get_statistics(y_true,y_pred):\n",
    "    tp = 0\n",
    "    tn = 0\n",
    "    fp = 0\n",
    "    fn = 0\n",
    "\n",
    "    for (u,v) in zip(y_true,y_pred):\n",
    "        if u == 1 and v == 1:\n",
    "            tp += 1\n",
    "        if u == 0 and v == 1:\n",
    "            fp += 1\n",
    "        if u == 1 and v == 0:\n",
    "            fn += 1\n",
    "        if u == 0 and v == 0:\n",
    "            tn += 1\n",
    "\n",
    "    total_samples = fn + tn + fp + tp\n",
    "\n",
    "    try:\n",
    "        accuracy = (tp + tn)*1.0/total_samples\n",
    "    except:\n",
    "        accuracy = -1\n",
    "\n",
    "    try:\n",
    "        error = (fp+fn)*1.0/total_samples\n",
    "    except:\n",
    "        error = -1\n",
    "\n",
    "    try:\n",
    "        recall = tp*1.0/(tp+fn)\n",
    "    except:\n",
    "        recall = -1\n",
    "\n",
    "    try:\n",
    "        precision = tp*1.0/(tp+fp)\n",
    "    except:\n",
    "        precision = -1\n",
    "\n",
    "    try:\n",
    "        specificity = tn*1.0/(tn+fp)\n",
    "    except:\n",
    "        specificity = -1\n",
    "    try:\n",
    "        f_measure = 2*recall*precision/(precision+recall)\n",
    "    except:\n",
    "        f_measure = -1\n",
    "\n",
    "    return [accuracy,error,recall,precision,specificity,f_measure]"
   ]
  },
  {
   "cell_type": "markdown",
   "metadata": {},
   "source": [
    "### Logistic Regression"
   ]
  },
  {
   "cell_type": "code",
   "execution_count": 26,
   "metadata": {},
   "outputs": [
    {
     "data": {
      "text/plain": [
       "LogisticRegression(C=1.0, class_weight=None, dual=False, fit_intercept=True,\n",
       "          intercept_scaling=1, max_iter=100, multi_class='ovr', n_jobs=1,\n",
       "          penalty='l2', random_state=None, solver='liblinear', tol=0.0001,\n",
       "          verbose=0, warm_start=False)"
      ]
     },
     "execution_count": 26,
     "metadata": {},
     "output_type": "execute_result"
    }
   ],
   "source": [
    "logit.fit(val_X,val_Y)"
   ]
  },
  {
   "cell_type": "code",
   "execution_count": 27,
   "metadata": {},
   "outputs": [
    {
     "name": "stderr",
     "output_type": "stream",
     "text": [
      "/homes/sharm267/anaconda3/envs/pytorch/lib/python3.5/site-packages/sklearn/linear_model/base.py:340: RuntimeWarning: overflow encountered in exp\n",
      "  np.exp(prob, prob)\n"
     ]
    }
   ],
   "source": [
    "pos_score = logit.predict_proba(test_X)[:,[1]]"
   ]
  },
  {
   "cell_type": "code",
   "execution_count": 28,
   "metadata": {},
   "outputs": [
    {
     "data": {
      "image/png": "[encoded data removed]",
      "text/plain": [
       "<matplotlib.figure.Figure at 0x7fc00787cf98>"
      ]
     },
     "metadata": {},
     "output_type": "display_data"
    }
   ],
   "source": [
    "plot_roc(\"Logistic Regression\",test_Y,pos_score)"
   ]
  },
  {
   "cell_type": "markdown",
   "metadata": {},
   "source": [
    "### Bagging"
   ]
  },
  {
   "cell_type": "code",
   "execution_count": 29,
   "metadata": {},
   "outputs": [],
   "source": [
    "# Bagging Classifier\n",
    "bagging = BaggingClassifier(n_estimators=30)"
   ]
  },
  {
   "cell_type": "code",
   "execution_count": null,
   "metadata": {},
   "outputs": [],
   "source": [
    "bagging.fit(train_X,train_Y)"
   ]
  },
  {
   "cell_type": "code",
   "execution_count": null,
   "metadata": {},
   "outputs": [],
   "source": [
    "pos_score = bagging.predict_proba(test_X)[:,[1]]\n",
    "pred_y = bagging.predict(test_X)\n",
    "f1 = f1_score(test_Y,pred_y)\n",
    "error = 1 - accuracy_score(test_Y,pred_y)\n",
    "print(\"F1: {}\".format(f1*100))\n",
    "print(\"Error: {} \".format(error*100))\n",
    "roc_auc_score(test_Y,pos_score)"
   ]
  },
  {
   "cell_type": "code",
   "execution_count": null,
   "metadata": {},
   "outputs": [],
   "source": [
    "plot_roc(\"Bagging\",test_Y,pos_score)"
   ]
  },
  {
   "cell_type": "markdown",
   "metadata": {},
   "source": [
    "### Random Forest"
   ]
  },
  {
   "cell_type": "code",
   "execution_count": null,
   "metadata": {},
   "outputs": [],
   "source": [
    "rand_forest = RandomForestClassifier(n_estimators=30)\n",
    "rand_forest.fit(train_X,train_Y)"
   ]
  },
  {
   "cell_type": "code",
   "execution_count": null,
   "metadata": {},
   "outputs": [],
   "source": [
    "pos_score = rand_forest.predict_proba(test_X)[:,[1]]\n"
   ]
  },
  {
   "cell_type": "code",
   "execution_count": null,
   "metadata": {},
   "outputs": [],
   "source": [
    "plot_roc(\"Random Forest\",test_Y,pos_score)"
   ]
  },
  {
   "cell_type": "code",
   "execution_count": null,
   "metadata": {},
   "outputs": [],
   "source": [
    "pred_y = rand_forest.predict(test_X)\n",
    "f1 = f1_score(test_Y,pred_y)\n",
    "error = 1 - accuracy_score(test_Y,pred_y)\n",
    "print(\"F1: {}\".format(f1*100))\n",
    "print(\"Error: {} \".format(error*100))"
   ]
  },
  {
   "cell_type": "markdown",
   "metadata": {},
   "source": [
    "### Decision Tree"
   ]
  },
  {
   "cell_type": "code",
   "execution_count": null,
   "metadata": {},
   "outputs": [],
   "source": [
    "min_sample_split = range(402,503,10)\n",
    "for m in min_sample_split:\n",
    "    \n",
    "    clf = DecisionTreeClassifier(random_state=0,min_samples_split=m)\n",
    "    clf.fit(train_X,train_Y)\n",
    "    prob_scores = clf.predict_proba(test_X)[:,[1]]\n",
    "    auc = roc_auc_score(test_Y,prob_scores)\n",
    "    print(\"m: {} auc:{}\".format(m,auc))"
   ]
  },
  {
   "cell_type": "code",
   "execution_count": null,
   "metadata": {},
   "outputs": [],
   "source": [
    "clf = DecisionTreeClassifier(random_state=0,min_samples_split=402)\n",
    "clf.fit(train_X,train_Y)\n",
    "prob_scores = clf.predict_proba(test_X)[:,[1]]"
   ]
  },
  {
   "cell_type": "code",
   "execution_count": null,
   "metadata": {},
   "outputs": [],
   "source": [
    "plot_roc(\"Decision Tree\",test_Y,prob_scores)"
   ]
  },
  {
   "cell_type": "code",
   "execution_count": null,
   "metadata": {},
   "outputs": [],
   "source": [
    "pred_y = clf.predict(test_X)\n",
    "f1 = f1_score(test_Y,pred_y)\n",
    "error = 1 - accuracy_score(test_Y,pred_y)\n",
    "print(\"F1: {}\".format(f1*100))\n",
    "print(\"Error: {} \".format(error*100))"
   ]
  },
  {
   "cell_type": "markdown",
   "metadata": {},
   "source": [
    "### Extra Tree Ensamble"
   ]
  },
  {
   "cell_type": "code",
   "execution_count": null,
   "metadata": {},
   "outputs": [],
   "source": [
    "clf = ExtraTreesClassifier(n_estimators=30)\n",
    "clf.fit(train_X,train_Y)\n",
    "prob_scores = clf.predict_proba(test_X)[:,[1]]\n",
    "plot_roc(\"Extra Tree\",test_Y,prob_scores)"
   ]
  },
  {
   "cell_type": "code",
   "execution_count": null,
   "metadata": {},
   "outputs": [],
   "source": [
    "pred_y = clf.predict(test_X)\n",
    "f1 = f1_score(test_Y,pred_y)\n",
    "error = 1 - accuracy_score(test_Y,pred_y)\n",
    "print(\"F1: {}\".format(f1*100))\n",
    "print(\"Error: {} \".format(error*100))"
   ]
  },
  {
   "cell_type": "markdown",
   "metadata": {},
   "source": [
    "## Nearest Neighbors"
   ]
  },
  {
   "cell_type": "code",
   "execution_count": null,
   "metadata": {},
   "outputs": [],
   "source": [
    "n_trees = range(5,11)\n",
    "for n in n_trees:\n",
    "    cls = NearestNeighbors(n_neighbors=n)\n",
    "    cls.fit(train_X,train_Y)\n",
    "    prob_scores = clf.predict_proba(test_X)[:,[1]]\n",
    "    auc = roc_auc_score(test_Y,prob_scores)\n",
    "    print(\"m: {} auc:{}\".format(n,auc))"
   ]
  },
  {
   "cell_type": "code",
   "execution_count": null,
   "metadata": {},
   "outputs": [],
   "source": [
    "clf = NearestNeighbors(n_neighbors=8)\n",
    "clf.fit(train_X,train_Y)\n",
    "prob_scores = clf.predict_proba(test_X)[:,[1]]\n",
    "plot_roc(\"8-NN\",test_Y,prob_scores)"
   ]
  },
  {
   "cell_type": "markdown",
   "metadata": {},
   "source": [
    "### XG Boost"
   ]
  },
  {
   "cell_type": "code",
   "execution_count": null,
   "metadata": {},
   "outputs": [],
   "source": [
    "dtest = xgb.DMatrix(test_X, label=test_Y)\n",
    "for d in range(5,20):\n",
    "    \n",
    "    param = {'max_depth':d, 'eta':1, 'silent':1, 'objective':'binary:logistic' }\n",
    "    dtrain = xgb.DMatrix(train_X, label=train_Y)\n",
    "    bst = xgb.train(param, dtrain, 2)\n",
    "    prob = bst.predict(dtest)\n",
    "    auc = roc_auc_score(test_Y,prob)\n",
    "    print(\"d: {} auc:{}\".format(d,auc))"
   ]
  },
  {
   "cell_type": "code",
   "execution_count": null,
   "metadata": {
    "scrolled": true
   },
   "outputs": [],
   "source": [
    "dtest = xgb.DMatrix(test_X, label=test_Y)\n",
    "param = {'max_depth':d, 'eta':1, 'silent':1, 'objective':'binary:logistic' }\n",
    "dtrain = xgb.DMatrix(train_X, label=train_Y)\n",
    "bst = xgb.train(param, dtrain, 2)\n",
    "prob = bst.predict(dtest)\n",
    "plot_roc(\"xgboost\",test_Y,prob)"
   ]
  },
  {
   "cell_type": "code",
   "execution_count": null,
   "metadata": {},
   "outputs": [],
   "source": [
    "pred_y = bst.predict(dtest)\n",
    "pred_y = [round(value) for value in pred_y]\n",
    "\n",
    "f1 = f1_score(test_Y,pred_y)\n",
    "error = 1 - accuracy_score(test_Y,pred_y)\n",
    "print(\"F1: {}\".format(f1*100))\n",
    "print(\"Error: {} \".format(error*100))"
   ]
  },
  {
   "cell_type": "markdown",
   "metadata": {},
   "source": [
    "### Boosting"
   ]
  },
  {
   "cell_type": "code",
   "execution_count": null,
   "metadata": {},
   "outputs": [],
   "source": [
    "cls = GradientBoostingClassifier()\n",
    "cls.fit(train_X,train_Y)\n",
    "proba = cls.predict_proba(test_X)[:,[1]]\n",
    "plot_roc(\"Boosting\",test_Y,proba)"
   ]
  },
  {
   "cell_type": "code",
   "execution_count": null,
   "metadata": {},
   "outputs": [],
   "source": [
    "pred_y = clf.predict(test_X)\n",
    "f1 = f1_score(test_Y,pred_y)\n",
    "error = 1 - accuracy_score(test_Y,pred_y)\n",
    "print(\"F1: {}\".format(f1*100))\n",
    "print(\"Error: {} \".format(error*100))"
   ]
  }
 ],
 "metadata": {
  "kernelspec": {
   "display_name": "Python 3",
   "language": "python",
   "name": "python3"
  },
  "language_info": {
   "codemirror_mode": {
    "name": "ipython",
    "version": 3
   },
   "file_extension": ".py",
   "mimetype": "text/x-python",
   "name": "python",
   "nbconvert_exporter": "python",
   "pygments_lexer": "ipython3",
   "version": "3.5.4"
  }
 },
 "nbformat": 4,
 "nbformat_minor": 2
}
